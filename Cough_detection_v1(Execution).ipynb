{
 "cells": [
  {
   "cell_type": "code",
   "execution_count": 51,
   "metadata": {},
   "outputs": [],
   "source": [
    "import keras\n",
    "from keras.models import Sequential\n",
    "#from keras.applications.vgg16 import VGG16\n",
    "from keras.layers import Dense, InputLayer, Dropout, Flatten\n",
    "from keras.layers import Conv2D, MaxPooling2D, GlobalMaxPooling2D\n",
    "from keras.preprocessing import image\n",
    "import numpy as np\n",
    "import pandas as pd\n",
    "import matplotlib.pyplot as plt\n",
    "from tqdm import tqdm\n",
    "from sklearn.model_selection import train_test_split\n",
    "\n",
    "from keras.preprocessing.image import ImageDataGenerator\n",
    "from keras.models import Sequential\n",
    "from keras.layers.core import Dense, Dropout, Activation, Flatten\n",
    "from keras.layers.convolutional import Convolution3D, MaxPooling3D\n",
    "from keras.models import load_model\n",
    "\n",
    "from keras.optimizers import SGD, RMSprop\n",
    "from keras.utils import np_utils, generic_utils\n",
    "import cv2\n",
    "import math\n",
    "import os\n",
    "from sklearn.model_selection import cross_validate\n",
    "from sklearn.model_selection import cross_val_score\n",
    "from sklearn import preprocessing\n",
    "import json"
   ]
  },
  {
   "cell_type": "code",
   "execution_count": 2,
   "metadata": {},
   "outputs": [],
   "source": [
    "model = load_model('my_model.h5')"
   ]
  },
  {
   "cell_type": "code",
   "execution_count": 76,
   "metadata": {},
   "outputs": [
    {
     "name": "stdout",
     "output_type": "stream",
     "text": [
      "                     video_name\n",
      "0  S012C003P007R001A041_rgb.avi\n"
     ]
    }
   ],
   "source": [
    "# open the .txt file which have names of test videos\n",
    "f = open(r\"Your own path of .txt file which have names of test videos\", \"r\")\n",
    "temp = f.read()\n",
    "videos = temp.split('\\n')\n",
    "\n",
    "# creating a dataframe having video names\n",
    "test = pd.DataFrame()\n",
    "test['video_name'] = videos\n",
    "test = test[:]\n",
    "print(test)"
   ]
  },
  {
   "cell_type": "code",
   "execution_count": 77,
   "metadata": {},
   "outputs": [
    {
     "name": "stderr",
     "output_type": "stream",
     "text": [
      "100%|██████████| 1/1 [00:00<00:00,  1.79it/s]\n"
     ]
    },
    {
     "name": "stdout",
     "output_type": "stream",
     "text": [
      "[[0.0, 0.9985839128494263], [0.133, 0.9985839128494263], [0.3, 0.9985839128494263], [0.466, 0.9985839128494263], [0.633, 0.9985839128494263], [0.8, 0.9985839128494263], [0.966, 0.9985839128494263], [1.133, 0.9985839128494263], [1.3, 0.9985839128494263], [1.466, 0.9985839128494263], [1.633, 0.9985839128494263], [1.8, 0.9985839128494263], [1.966, 0.9985839128494263], [2.133, 0.9985839128494263], [2.3, 0.9985839128494263]]\n"
     ]
    }
   ],
   "source": [
    "# storing the frames from test videos\n",
    "Test_array = []\n",
    "Time = []\n",
    "Pred_of_Time = []\n",
    "for i in tqdm(range(test.shape[0])):\n",
    "#for i in range(1):\n",
    "    test_image_temp = []\n",
    "    count = 0\n",
    "    videoFile = test['video_name'][i]\n",
    "    cap = cv2.VideoCapture(r'Your own path of test video' + videoFile)   # capturing the video from the given path\n",
    "    frameCount = cap.get(7) #frame counts\n",
    "    x = math.floor(frameCount / 15)\n",
    "    #print([frameCount,x])\n",
    "    while(cap.isOpened()):\n",
    "        frameId = cap.get(1) #current frame number\n",
    "        frameTime = cap.get(0)\n",
    "        ret, frame = cap.read()\n",
    "        if (ret != True):\n",
    "            break\n",
    "        if (count == 15):\n",
    "            break\n",
    "        if (frameId == (x * count)):\n",
    "            # storing the frames in a new folder named train_1\n",
    "            frame=cv2.resize(frame,(112,112),interpolation=cv2.INTER_AREA)\n",
    "            #filename =r'D:\\2020Spring\\636_project\\data\\test_1/' + videoFile +\"_frame%d.jpg\" % count;count+=1\n",
    "            #cv2.imwrite(filename, frame)\n",
    "            frame = image.img_to_array(frame)\n",
    "            # appending the image to the train_image list\n",
    "            test_image_temp.append(frame)\n",
    "            #print(len(test_image_temp))\n",
    "            count+=1\n",
    "            Time.append(frameTime)\n",
    "    cap.release()\n",
    "    Test_array.append(np.array(test_image_temp,dtype='float16'))\n",
    "Test_array_f = np.array(Test_array,dtype='float16')\n",
    "Test_array_f = Test_array_f.astype('float32')\n",
    "Test_array_f -= np.mean(Test_array_f)\n",
    "Test_array_f /=np.max(Test_array_f)\n",
    "#Test_array_f[0][:][:][:][:] = Test_array[:][:][:][:]\n",
    "#print(Test_array_f.shape)\n",
    "#make prediction\n",
    "prediction = model.predict(Test_array_f)\n",
    "#print(prediction)\n",
    "timelabel = np.zeros((15,2))\n",
    "for i in range(len(Time)):\n",
    "    Pred_of_Time.append(prediction[0][1])\n",
    "    Time[i] = math.floor(Time[i])\n",
    "    Time[i] /= 1000\n",
    "plt.plot(Time, Pred_of_Time)\n",
    "    timelabel[i][0] = Time[i]\n",
    "    timelabel[i][1] = Pred_of_Time[i]\n",
    "timelabel_l = timelabel.tolist()\n",
    "print(timelabel_l)\n",
    "with open('Cough.json', 'w') as f:\n",
    "    json.dump(timelabel_l, f)"
   ]
  },
  {
   "cell_type": "code",
   "execution_count": null,
   "metadata": {},
   "outputs": [],
   "source": []
  }
 ],
 "metadata": {
  "kernelspec": {
   "display_name": "Python 3",
   "language": "python",
   "name": "python3"
  },
  "language_info": {
   "codemirror_mode": {
    "name": "ipython",
    "version": 3
   },
   "file_extension": ".py",
   "mimetype": "text/x-python",
   "name": "python",
   "nbconvert_exporter": "python",
   "pygments_lexer": "ipython3",
   "version": "3.7.4"
  }
 },
 "nbformat": 4,
 "nbformat_minor": 2
}

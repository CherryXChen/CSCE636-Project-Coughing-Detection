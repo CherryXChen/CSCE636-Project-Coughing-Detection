{
 "cells": [
  {
   "cell_type": "code",
   "execution_count": null,
   "metadata": {},
   "outputs": [],
   "source": [
    "import keras\n",
    "from keras.models import Sequential\n",
    "#from keras.applications.vgg16 import VGG16\n",
    "from keras.layers import Dense, InputLayer, Dropout, Flatten\n",
    "from keras.layers import Conv2D, MaxPooling2D, GlobalMaxPooling2D\n",
    "from keras.preprocessing import image\n",
    "import numpy as np\n",
    "import pandas as pd\n",
    "import matplotlib.pyplot as plt\n",
    "from tqdm import tqdm\n",
    "from sklearn.model_selection import train_test_split\n",
    "\n",
    "from keras.preprocessing.image import ImageDataGenerator\n",
    "from keras.models import Sequential\n",
    "from keras.layers.core import Dense, Dropout, Activation, Flatten\n",
    "from keras.layers.convolutional import Convolution3D, MaxPooling3D\n",
    "\n",
    "from keras.optimizers import SGD, RMSprop\n",
    "from keras.utils import np_utils, generic_utils\n",
    "import cv2\n",
    "import math\n",
    "import os\n",
    "from sklearn.model_selection import cross_validate\n",
    "from sklearn.model_selection import cross_val_score\n",
    "from sklearn import preprocessing"
   ]
  },
  {
   "cell_type": "code",
   "execution_count": null,
   "metadata": {},
   "outputs": [],
   "source": [
    "train = pd.read_csv(r'D:\\2020Spring\\636_project\\data\\train_new.csv')\n",
    "train.head()\n",
    "#print(train)"
   ]
  },
  {
   "cell_type": "code",
   "execution_count": null,
   "metadata": {},
   "outputs": [],
   "source": [
    "#creating an empty list\n",
    "#train_image = []\n",
    "#train_image_temp = []\n",
    "X = []\n",
    "i_count = train.shape[0]\n",
    "i_count = int(i_count/15)\n",
    "print(i_count)\n",
    "# for loop to read and store frames\n",
    "for i in tqdm(range(i_count)):\n",
    "#for i in range(150):\n",
    "    train_image = []\n",
    "    train_image_temp = []\n",
    "    for j in range(15):\n",
    "        # loading the image and keeping the target size as (224,224,3)\n",
    "        img = image.load_img(r'D:\\2020Spring\\636_project\\data\\train_1/'+train['image'][i*15+j])\n",
    "        #print(i*15+j)\n",
    "        #print(train['image'][i*15+j])\n",
    "        # converting it to array\n",
    "        img = image.img_to_array(img)\n",
    "        # appending the image to the train_image list\n",
    "        train_image_temp.append(img)\n",
    "        #print(len(train_image_temp))\n",
    "    #train_image.append(train_image_temp)\n",
    "    X.append(np.array(train_image_temp,'float16'))\n",
    "#print(train_image[2])\n",
    "#train_image.dtype = 'float16'\n",
    "# converting the list to numpy array\n",
    "#X = np.array(train_image)\n",
    "X_train = np.array(X,dtype='float16')\n",
    "# shape of the array\n",
    "X_train.shape"
   ]
  },
  {
   "cell_type": "code",
   "execution_count": null,
   "metadata": {},
   "outputs": [],
   "source": [
    "print(len(X_train))"
   ]
  },
  {
   "cell_type": "code",
   "execution_count": null,
   "metadata": {},
   "outputs": [],
   "source": [
    "label = np.zeros(len(X_train),dtype = int)\n",
    "count = 5\n",
    "for i in tqdm(range(len(X_train))):\n",
    "    if (i == count and i < 48):\n",
    "        label[i] = 1\n",
    "        count += 6\n",
    "    if  (i == 48 or i == 54):\n",
    "        label[i] = 1\n",
    "    if (i > 59):\n",
    "        label[i] = 1\n",
    "print(label)"
   ]
  },
  {
   "cell_type": "code",
   "execution_count": null,
   "metadata": {
    "scrolled": true
   },
   "outputs": [],
   "source": [
    "'''\n",
    "label = np.zeros(len(X_train),dtype = int)\n",
    "count = 40\n",
    "for i in tqdm(range(len(X_train))):\n",
    "    if (i == count):\n",
    "        label[i] = 1\n",
    "        count += 60\n",
    "#print(label[101])\n",
    "\n",
    "num_1 = train['image']\n",
    "print(num_1)\n",
    "label = np.zeros(len(X_train),dtype = int)\n",
    "for i in tqdm(range(len(X_train))):\n",
    "    num = num_1[i].split('\\\\',5)[5]\n",
    "    # creating the image name\n",
    "    #print(images[i].split('_rgb')[0].split('A')[1])\n",
    "    if (num[i].split('_rgb')[0].split('A')[1] == '041'):\n",
    "        label.append('Cough')\n",
    "    # creating the class of image\n",
    "    else:\n",
    "        label.append('Others')\n",
    "'''"
   ]
  },
  {
   "cell_type": "code",
   "execution_count": null,
   "metadata": {},
   "outputs": [],
   "source": [
    "# creating the training and validation set\n",
    "X_train = X_train.astype('float32')\n",
    "X_train -= np.mean(X_train)\n",
    "X_train /=np.max(X_train)\n",
    "\n",
    "label = np_utils.to_categorical(label, 2)\n",
    "X_train, X_test, y_train, y_test = train_test_split(X_train, label, random_state=42, test_size=0.2, stratify = label)"
   ]
  },
  {
   "cell_type": "code",
   "execution_count": null,
   "metadata": {},
   "outputs": [],
   "source": [
    "#print(y_train, y_test)"
   ]
  },
  {
   "cell_type": "code",
   "execution_count": null,
   "metadata": {},
   "outputs": [],
   "source": [
    "model = Sequential()\n",
    "model.add(Convolution3D(32, 5, 5, 5, padding='same', name='conv1', dim_ordering='tf', input_shape=(15,112,112,3), activation='relu'))\n",
    "\n",
    "model.add(MaxPooling3D(pool_size=(3, 3, 3)))\n",
    "\n",
    "model.add(Dropout(0.5))\n",
    "\n",
    "model.add(Flatten())\n",
    "\n",
    "model.add(Dense(128, init='normal', activation='relu'))\n",
    "\n",
    "model.add(Dropout(0.5))\n",
    "\n",
    "model.add(Dense(2,init='normal'))\n",
    "\n",
    "model.add(Activation('softmax'))\n",
    "\n",
    "model.compile(loss='categorical_crossentropy', optimizer='RMSprop', metrics=['accuracy'])"
   ]
  },
  {
   "cell_type": "code",
   "execution_count": null,
   "metadata": {},
   "outputs": [],
   "source": [
    "hist = model.fit(X_train, y_train, validation_data=(X_test,y_test),\n",
    "          batch_size = 16, epochs = 15, shuffle=True)\n"
   ]
  },
  {
   "cell_type": "code",
   "execution_count": null,
   "metadata": {},
   "outputs": [],
   "source": [
    "score = model.evaluate(X_test, y_test, batch_size=32)\n",
    "#print('Test score:', score[0])\n",
    "#print('Test accuracy:', score[1])"
   ]
  },
  {
   "cell_type": "code",
   "execution_count": null,
   "metadata": {},
   "outputs": [],
   "source": [
    "print(score)"
   ]
  },
  {
   "cell_type": "code",
   "execution_count": null,
   "metadata": {},
   "outputs": [],
   "source": [
    "'''\n",
    "train_loss=hist.history['loss']\n",
    "val_loss=hist.history['val_loss']\n",
    "train_acc=hist.history['accrucy']\n",
    "val_acc=hist.history['val_acc']\n",
    "xc=range(100)\n",
    "\n",
    "plt.figure(1,figsize=(7,5))\n",
    "plt.plot(xc,train_loss)\n",
    "plt.plot(xc,val_loss)\n",
    "plt.xlabel('num of Epochs')\n",
    "plt.ylabel('loss')\n",
    "plt.title('train_loss vs val_loss')\n",
    "plt.grid(True)\n",
    "plt.legend(['train','val'])\n",
    "plt.style.available # use bmh, classic,ggplot for big pictures\n",
    "plt.style.use(['classic'])\n",
    "\n",
    "plt.figure(2,figsize=(7,5))\n",
    "plt.plot(xc,train_acc)\n",
    "plt.plot(xc,val_acc)\n",
    "plt.xlabel('num of Epochs')\n",
    "plt.ylabel('accuracy')\n",
    "plt.title('train_acc vs val_acc')\n",
    "plt.grid(True)\n",
    "plt.legend(['train','val'],loc=4)\n",
    "#print plt.style.available # use bmh, classic,ggplot for big pictures\n",
    "plt.style.use(['classic'])\n",
    "'''"
   ]
  },
  {
   "cell_type": "code",
   "execution_count": null,
   "metadata": {},
   "outputs": [],
   "source": [
    "# open the .txt file which have names of test videos\n",
    "f = open(r\"D:\\2020Spring\\636_project\\data\\test_list.txt\", \"r\")\n",
    "temp = f.read()\n",
    "videos = temp.split('\\n')\n",
    "\n",
    "# creating a dataframe having video names\n",
    "test = pd.DataFrame()\n",
    "test['video_name'] = videos\n",
    "test = test[:]\n",
    "#print(test)"
   ]
  },
  {
   "cell_type": "code",
   "execution_count": null,
   "metadata": {},
   "outputs": [],
   "source": [
    "# storing the frames from test videos\n",
    "Test_array = []\n",
    "for i in tqdm(range(test.shape[0])):\n",
    "#for i in range(1):\n",
    "    test_image_temp = []\n",
    "    count = 0\n",
    "    videoFile = test['video_name'][i]\n",
    "    cap = cv2.VideoCapture(r'D:\\2020Spring\\636_project\\data\\test_data1/' + videoFile)   # capturing the video from the given path\n",
    "    frameCount = cap.get(7) #frame counts\n",
    "    x = math.floor(frameCount / 15)\n",
    "    #print([frameCount,x])\n",
    "    while(cap.isOpened()):\n",
    "        frameId = cap.get(1) #current frame number\n",
    "        ret, frame = cap.read()\n",
    "        if (ret != True):\n",
    "            break\n",
    "        if (count == 15):\n",
    "            break\n",
    "        if (frameId == (x * count)):\n",
    "            # storing the frames in a new folder named train_1\n",
    "            frame=cv2.resize(frame,(112,112),interpolation=cv2.INTER_AREA)\n",
    "            #filename =r'D:\\2020Spring\\636_project\\data\\test_1/' + videoFile +\"_frame%d.jpg\" % count;count+=1\n",
    "            #cv2.imwrite(filename, frame)\n",
    "            frame = image.img_to_array(frame)\n",
    "            # appending the image to the train_image list\n",
    "            test_image_temp.append(frame)\n",
    "            #print(len(test_image_temp))\n",
    "            count+=1\n",
    "    cap.release()\n",
    "    Test_array.append(np.array(test_image_temp,dtype='float16'))\n",
    "Test_array_f = np.array(Test_array,dtype='float16')\n",
    "Test_array_f = Test_array_f.astype('float32')\n",
    "Test_array_f -= np.mean(Test_array_f)\n",
    "Test_array_f /=np.max(Test_array_f)\n",
    "#Test_array_f[0][:][:][:][:] = Test_array[:][:][:][:]\n",
    "print(Test_array_f.shape)\n",
    "#make prediction\n",
    "prediction = model.predict_classes(Test_array_f)\n",
    "print(prediction)"
   ]
  },
  {
   "cell_type": "code",
   "execution_count": null,
   "metadata": {},
   "outputs": [],
   "source": []
  }
 ],
 "metadata": {
  "kernelspec": {
   "display_name": "Python 3",
   "language": "python",
   "name": "python3"
  },
  "language_info": {
   "codemirror_mode": {
    "name": "ipython",
    "version": 3
   },
   "file_extension": ".py",
   "mimetype": "text/x-python",
   "name": "python",
   "nbconvert_exporter": "python",
   "pygments_lexer": "ipython3",
   "version": "3.7.4"
  }
 },
 "nbformat": 4,
 "nbformat_minor": 2
}

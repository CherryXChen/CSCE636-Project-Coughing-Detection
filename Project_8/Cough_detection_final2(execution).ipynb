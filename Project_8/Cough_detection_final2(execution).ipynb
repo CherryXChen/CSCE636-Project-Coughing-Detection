{
 "cells": [
  {
   "cell_type": "code",
   "execution_count": null,
   "metadata": {},
   "outputs": [],
   "source": [
    "from keras.preprocessing.image import ImageDataGenerator\n",
    "from keras.models import Sequential\n",
    "from keras.layers.core import Dense, Dropout, Activation, Flatten\n",
    "from keras.layers.convolutional import Convolution3D, MaxPooling3D\n",
    "\n",
    "from keras.optimizers import SGD, RMSprop\n",
    "from keras.utils import np_utils, generic_utils\n",
    "from keras.models import load_model\n",
    "\n",
    "import os\n",
    "import matplotlib\n",
    "import matplotlib.pyplot as plt\n",
    "import numpy as np\n",
    "import cv2\n",
    "from sklearn.model_selection import train_test_split\n",
    "from sklearn.model_selection import cross_validate\n",
    "from sklearn import preprocessing\n",
    "from keras.preprocessing import image\n",
    "from natsort import natsorted\n",
    "from tqdm import tqdm\n",
    "import json"
   ]
  },
  {
   "cell_type": "code",
   "execution_count": null,
   "metadata": {},
   "outputs": [],
   "source": [
    "path = r'D:\\2020Spring\\636_project\\final_video\\1000_2/'\n",
    "files= os.listdir(path)\n",
    "files = natsorted(files)"
   ]
  },
  {
   "cell_type": "code",
   "execution_count": null,
   "metadata": {},
   "outputs": [],
   "source": [
    "test = []\n",
    "for i in tqdm(range(len(files))):\n",
    "        img = image.load_img(path + files[i])\n",
    "        img = np.float32(img)\n",
    "        img = cv2.resize(img,(224,224),interpolation=cv2.INTER_AREA)\n",
    "        img = image.img_to_array(img)\n",
    "        test.append(img)"
   ]
  },
  {
   "cell_type": "code",
   "execution_count": null,
   "metadata": {},
   "outputs": [],
   "source": [
    "sample_num = int(len(test)/14)\n",
    "test = np.reshape(test,(sample_num,14,224,224,3))\n",
    "test.shape"
   ]
  },
  {
   "cell_type": "code",
   "execution_count": null,
   "metadata": {},
   "outputs": [],
   "source": [
    "test = test.astype('float32')\n",
    "test -= np.mean(test)\n",
    "test /=np.max(test)"
   ]
  },
  {
   "cell_type": "code",
   "execution_count": null,
   "metadata": {},
   "outputs": [],
   "source": [
    "model = load_model('my_model_P8_233.h5')"
   ]
  },
  {
   "cell_type": "code",
   "execution_count": null,
   "metadata": {},
   "outputs": [],
   "source": [
    "prediction = model.predict_classes(test)"
   ]
  },
  {
   "cell_type": "code",
   "execution_count": null,
   "metadata": {},
   "outputs": [],
   "source": [
    "timelabel = np.zeros((sample_num * 2, 2))\n",
    "time = np.arange(0,sample_num * 2 + 1)\n",
    "Pred_of_Time = []\n",
    "count = 0\n",
    "Pred_of_Time.append(0)\n",
    "print(prediction)\n",
    "for i in range(sample_num):\n",
    "    Pred_of_Time.append(prediction[i])\n",
    "    Pred_of_Time.append(prediction[i])\n",
    "'''\n",
    "for i in range(len(time)):\n",
    "    if (count == 0):\n",
    "        Pred_of_Time.append(prediction[0][1])\n",
    "    Pred_of_Time.append(prediction[0][1])\n",
    "    timelabel[i][0] = time[i]\n",
    "    timelabel[i][1] = Pred_of_Time[i]\n",
    "timelabel_l = timelabel.tolist()\n",
    "'''\n",
    "plt.ylim((-0.5,1.5))\n",
    "plt.plot(time, Pred_of_Time)\n",
    "'''\n",
    "print(timelabel_l)\n",
    "with open('Cough8_5.json', 'w') as f:\n",
    "    json.dump(timelabel_l, f)\n",
    "'''"
   ]
  },
  {
   "cell_type": "code",
   "execution_count": null,
   "metadata": {},
   "outputs": [],
   "source": []
  },
  {
   "cell_type": "code",
   "execution_count": null,
   "metadata": {},
   "outputs": [],
   "source": []
  },
  {
   "cell_type": "code",
   "execution_count": null,
   "metadata": {},
   "outputs": [],
   "source": []
  }
 ],
 "metadata": {
  "kernelspec": {
   "display_name": "Python 3",
   "language": "python",
   "name": "python3"
  },
  "language_info": {
   "codemirror_mode": {
    "name": "ipython",
    "version": 3
   },
   "file_extension": ".py",
   "mimetype": "text/x-python",
   "name": "python",
   "nbconvert_exporter": "python",
   "pygments_lexer": "ipython3",
   "version": "3.7.4"
  }
 },
 "nbformat": 4,
 "nbformat_minor": 2
}

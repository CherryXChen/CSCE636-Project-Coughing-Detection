{
 "cells": [
  {
   "cell_type": "code",
   "execution_count": 1,
   "metadata": {},
   "outputs": [
    {
     "name": "stderr",
     "output_type": "stream",
     "text": [
      "Using TensorFlow backend.\n"
     ]
    }
   ],
   "source": [
    "from keras.preprocessing.image import ImageDataGenerator\n",
    "from keras.models import Sequential\n",
    "from keras.layers.core import Dense, Dropout, Activation, Flatten\n",
    "from keras.layers.convolutional import Convolution3D, MaxPooling3D, ZeroPadding3D\n",
    "\n",
    "from keras.optimizers import SGD, RMSprop\n",
    "from keras.utils import np_utils, generic_utils\n",
    "\n",
    "import os\n",
    "import matplotlib\n",
    "import matplotlib.pyplot as plt\n",
    "import numpy as np\n",
    "import cv2\n",
    "from sklearn.model_selection import train_test_split\n",
    "from sklearn.model_selection import cross_validate\n",
    "from sklearn import preprocessing\n",
    "from keras.preprocessing import image\n",
    "from natsort import natsorted\n",
    "from tqdm import tqdm\n",
    "#from PIL import Image"
   ]
  },
  {
   "cell_type": "code",
   "execution_count": 2,
   "metadata": {},
   "outputs": [],
   "source": [
    "path_0 = r'D:\\2020Spring\\636_project\\final_video\\label_0/'\n",
    "path_1 = r'D:\\2020Spring\\636_project\\final_video\\label_1/'\n",
    "#print(files)\n",
    "train_0 = []\n",
    "train_1 = []\n",
    "train = []"
   ]
  },
  {
   "cell_type": "code",
   "execution_count": 3,
   "metadata": {},
   "outputs": [
    {
     "name": "stderr",
     "output_type": "stream",
     "text": [
      "100%|██████████| 700/700 [00:14<00:00, 47.41it/s] \n"
     ]
    }
   ],
   "source": [
    "files= os.listdir(path_0)\n",
    "files = natsorted(files)\n",
    "#print(files)\n",
    "for i in tqdm(range(len(files))):\n",
    "        img = image.load_img(r'D:\\2020Spring\\636_project\\final_video\\label_0/'+files[i])\n",
    "        img = np.float32(img)\n",
    "        img = cv2.resize(img,(224,224),interpolation=cv2.INTER_AREA)\n",
    "        img = image.img_to_array(img)\n",
    "        train_0.append(img)"
   ]
  },
  {
   "cell_type": "code",
   "execution_count": 4,
   "metadata": {},
   "outputs": [
    {
     "name": "stderr",
     "output_type": "stream",
     "text": [
      "100%|██████████| 700/700 [00:26<00:00, 25.95it/s]\n"
     ]
    }
   ],
   "source": [
    "files= os.listdir(path_1)\n",
    "files = natsorted(files)\n",
    "#print(files)\n",
    "for i in tqdm(range(len(files))):\n",
    "        img = image.load_img(r'D:\\2020Spring\\636_project\\final_video\\label_1/'+files[i])\n",
    "        img = np.float32(img)\n",
    "        img = cv2.resize(img,(224,224),interpolation=cv2.INTER_AREA)\n",
    "        img = image.img_to_array(img)\n",
    "        train_1.append(img)"
   ]
  },
  {
   "cell_type": "code",
   "execution_count": 5,
   "metadata": {},
   "outputs": [],
   "source": [
    "train.append(train_0)\n",
    "train.append(train_1)\n",
    "train = np.array(train)"
   ]
  },
  {
   "cell_type": "code",
   "execution_count": 6,
   "metadata": {},
   "outputs": [
    {
     "name": "stdout",
     "output_type": "stream",
     "text": [
      "(2, 700, 224, 224, 3)\n"
     ]
    }
   ],
   "source": [
    "print(train.shape)"
   ]
  },
  {
   "cell_type": "code",
   "execution_count": 7,
   "metadata": {},
   "outputs": [],
   "source": [
    "train = np.reshape(train,(1400,224,224,3))"
   ]
  },
  {
   "cell_type": "code",
   "execution_count": 8,
   "metadata": {},
   "outputs": [
    {
     "data": {
      "text/plain": [
       "(100, 14, 224, 224, 3)"
      ]
     },
     "execution_count": 8,
     "metadata": {},
     "output_type": "execute_result"
    }
   ],
   "source": [
    "train = np.reshape(train,(100,14,224,224,3))\n",
    "train.shape"
   ]
  },
  {
   "cell_type": "code",
   "execution_count": 9,
   "metadata": {},
   "outputs": [
    {
     "data": {
      "text/plain": [
       "<matplotlib.image.AxesImage at 0x2191188da88>"
      ]
     },
     "execution_count": 9,
     "metadata": {},
     "output_type": "execute_result"
    },
    {
     "data": {
      "image/png": "[encoded data removed]",
      "text/plain": [
       "<Figure size 432x288 with 1 Axes>"
      ]
     },
     "metadata": {
      "needs_background": "light"
     },
     "output_type": "display_data"
    }
   ],
   "source": [
    "temp = train[53][9]\n",
    "temp = image.array_to_img(temp)\n",
    "plt.imshow(temp)"
   ]
  },
  {
   "cell_type": "code",
   "execution_count": 10,
   "metadata": {},
   "outputs": [
    {
     "name": "stdout",
     "output_type": "stream",
     "text": [
      "X_Train shape: (100, 14, 224, 224, 3)\n"
     ]
    }
   ],
   "source": [
    "num_samples = len(train)\n",
    "label=np.ones((num_samples,),dtype = int)\n",
    "label[0:50]= 0\n",
    "label[50:100] = 1\n",
    "\n",
    "train_data = [train,label]\n",
    "\n",
    "(X_train, y_train) = (train_data[0],train_data[1])\n",
    "print('X_Train shape:', X_train.shape)\n",
    "\n",
    "Y_train = np_utils.to_categorical(y_train, 2)"
   ]
  },
  {
   "cell_type": "code",
   "execution_count": 11,
   "metadata": {},
   "outputs": [],
   "source": [
    "# Pre-processing\n",
    "X_train = X_train.astype('float32')\n",
    "X_train -= np.mean(X_train)\n",
    "X_train /=np.max(X_train)"
   ]
  },
  {
   "cell_type": "code",
   "execution_count": 12,
   "metadata": {},
   "outputs": [],
   "source": [
    "# Split the data\n",
    "X_train_new, X_val_new, y_train_new,y_val_new =  train_test_split(X_train, Y_train, test_size=0.2, random_state=23)"
   ]
  },
  {
   "cell_type": "code",
   "execution_count": 13,
   "metadata": {},
   "outputs": [
    {
     "name": "stderr",
     "output_type": "stream",
     "text": [
      "D:\\Software\\Anaconda\\Anaconda3\\lib\\site-packages\\ipykernel_launcher.py:7: UserWarning: Update your `Conv3D` call to the Keras 2 API: `Conv3D(64, (3, 3, 3), activation=\"relu\", name=\"conv1\", input_shape=(14, 224, ..., strides=(1, 1, 1), padding=\"same\", data_format=\"channels_last\")`\n",
      "  import sys\n",
      "D:\\Software\\Anaconda\\Anaconda3\\lib\\site-packages\\ipykernel_launcher.py:10: UserWarning: Update your `MaxPooling3D` call to the Keras 2 API: `MaxPooling3D(pool_size=(1, 2, 2), strides=(1, 2, 2), name=\"pool1\", padding=\"valid\")`\n",
      "  # Remove the CWD from sys.path while we load stuff.\n",
      "D:\\Software\\Anaconda\\Anaconda3\\lib\\site-packages\\ipykernel_launcher.py:14: UserWarning: Update your `Conv3D` call to the Keras 2 API: `Conv3D(128, (3, 3, 3), activation=\"relu\", name=\"conv2\", strides=(1, 1, 1), padding=\"same\")`\n",
      "  \n",
      "D:\\Software\\Anaconda\\Anaconda3\\lib\\site-packages\\ipykernel_launcher.py:16: UserWarning: Update your `MaxPooling3D` call to the Keras 2 API: `MaxPooling3D(pool_size=(2, 2, 2), strides=(2, 2, 2), name=\"pool2\", padding=\"valid\")`\n",
      "  app.launch_new_instance()\n",
      "D:\\Software\\Anaconda\\Anaconda3\\lib\\site-packages\\ipykernel_launcher.py:20: UserWarning: Update your `Conv3D` call to the Keras 2 API: `Conv3D(256, (3, 3, 3), activation=\"relu\", name=\"conv3a\", strides=(1, 1, 1), padding=\"same\")`\n",
      "D:\\Software\\Anaconda\\Anaconda3\\lib\\site-packages\\ipykernel_launcher.py:27: UserWarning: Update your `MaxPooling3D` call to the Keras 2 API: `MaxPooling3D(pool_size=(2, 2, 2), strides=(2, 2, 2), name=\"pool3\", padding=\"valid\")`\n",
      "D:\\Software\\Anaconda\\Anaconda3\\lib\\site-packages\\ipykernel_launcher.py:52: UserWarning: Update your `Dense` call to the Keras 2 API: `Dense(256, activation=\"relu\", kernel_initializer=\"normal\")`\n",
      "D:\\Software\\Anaconda\\Anaconda3\\lib\\site-packages\\ipykernel_launcher.py:56: UserWarning: Update your `Dense` call to the Keras 2 API: `Dense(2, kernel_initializer=\"normal\")`\n"
     ]
    }
   ],
   "source": [
    "# Design Model\n",
    "model = Sequential()\n",
    "\n",
    "model.add(Convolution3D(64, 3, 3, 3, activation='relu', \n",
    "                        border_mode='same', name='conv1',\n",
    "                        subsample=(1, 1, 1), dim_ordering='tf', \n",
    "                        input_shape=(14, 224, 224, 3)))\n",
    "\n",
    "model.add(MaxPooling3D(pool_size=(1, 2, 2), strides=(1, 2, 2), \n",
    "                        border_mode='valid', name='pool1'))\n",
    "\n",
    "model.add(Convolution3D(128, 3, 3, 3, activation='relu', \n",
    "                        border_mode='same', name='conv2', \n",
    "                        subsample=(1, 1, 1)))\n",
    "model.add(MaxPooling3D(pool_size=(2, 2, 2), strides=(2, 2, 2), \n",
    "                        border_mode='valid', name='pool2'))\n",
    "\n",
    "model.add(Convolution3D(256, 3, 3, 3, activation='relu', \n",
    "                        border_mode='same', name='conv3a',\n",
    "                        subsample=(1, 1, 1)))\n",
    "'''\n",
    "model.add(Convolution3D(256, 3, 3, 3, activation='relu', \n",
    "                        border_mode='same', name='conv3b',\n",
    "                        subsample=(1, 1, 1)))\n",
    "'''\n",
    "model.add(MaxPooling3D(pool_size=(2, 2, 2), strides=(2, 2, 2), \n",
    "                        border_mode='valid', name='pool3'))\n",
    "'''\n",
    "model.add(Convolution3D(256, 3, 3, 3, activation='relu', \n",
    "                        border_mode='same', name='conv4a', \n",
    "                        subsample=(1, 1, 1)))\n",
    "model.add(Convolution3D(256, 3, 3, 3, activation='relu', \n",
    "                        border_mode='same', name='conv4b',\n",
    "                        subsample=(1, 1, 1)))\n",
    "model.add(MaxPooling3D(pool_size=(2, 2, 2), strides=(2, 2, 2), \n",
    "                        border_mode='valid', name='pool4'))\n",
    "\n",
    "model.add(Convolution3D(256, 3, 3, 3, activation='relu', \n",
    "                        border_mode='same', name='conv5a',\n",
    "                        subsample=(1, 1, 1)))\n",
    "model.add(Convolution3D(256, 3, 3, 3, activation='relu', \n",
    "                        border_mode='same', name='conv5b',\n",
    "                        subsample=(1, 1, 1)))\n",
    "model.add(ZeroPadding3D(padding=(0, 1, 1)))\n",
    "model.add(MaxPooling3D(pool_size=(1, 2, 2), strides=(1, 2, 2), \n",
    "                        border_mode='valid', name='pool5'))\n",
    "'''\n",
    "model.add(Dropout(0.5))\n",
    "\n",
    "model.add(Flatten())\n",
    "\n",
    "model.add(Dense(256, init='normal', activation='relu'))\n",
    "\n",
    "model.add(Dropout(0.5))\n",
    "\n",
    "model.add(Dense(2,init='normal'))\n",
    "\n",
    "model.add(Activation('softmax'))\n",
    "\n",
    "model.compile(loss='categorical_crossentropy', optimizer='RMSprop', metrics=['accuracy'])"
   ]
  },
  {
   "cell_type": "code",
   "execution_count": 14,
   "metadata": {},
   "outputs": [
    {
     "name": "stdout",
     "output_type": "stream",
     "text": [
      "Train on 80 samples, validate on 20 samples\n",
      "Epoch 1/8\n",
      "80/80 [==============================] - ETA: 12:39 - loss: 0.7575 - accuracy: 0.500 - ETA: 11:00 - loss: 1.2580 - accuracy: 0.625 - ETA: 9:27 - loss: 76.9581 - accuracy: 0.583 - ETA: 8:03 - loss: 58.7301 - accuracy: 0.500 - ETA: 6:41 - loss: 47.2898 - accuracy: 0.525 - ETA: 5:19 - loss: 39.5902 - accuracy: 0.500 - ETA: 3:59 - loss: 34.0993 - accuracy: 0.482 - ETA: 2:39 - loss: 29.9344 - accuracy: 0.453 - ETA: 1:19 - loss: 26.6841 - accuracy: 0.458 - 810s 10s/step - loss: 24.0911 - accuracy: 0.4500 - val_loss: 0.6347 - val_accuracy: 0.8500\n",
      "Epoch 2/8\n",
      "80/80 [==============================] - ETA: 11:50 - loss: 0.6391 - accuracy: 0.500 - ETA: 10:33 - loss: 0.6105 - accuracy: 0.562 - ETA: 9:14 - loss: 0.6199 - accuracy: 0.541 - ETA: 7:54 - loss: 0.5871 - accuracy: 0.59 - ETA: 6:36 - loss: 0.5309 - accuracy: 0.67 - ETA: 5:16 - loss: 0.5900 - accuracy: 0.66 - ETA: 3:57 - loss: 0.6260 - accuracy: 0.62 - ETA: 2:38 - loss: 0.6183 - accuracy: 0.65 - ETA: 1:19 - loss: 0.5911 - accuracy: 0.68 - 808s 10s/step - loss: 0.5892 - accuracy: 0.6750 - val_loss: 0.3621 - val_accuracy: 0.8000\n",
      "Epoch 3/8\n",
      "80/80 [==============================] - ETA: 11:50 - loss: 0.4566 - accuracy: 0.750 - ETA: 10:31 - loss: 0.6482 - accuracy: 0.750 - ETA: 9:12 - loss: 0.5614 - accuracy: 0.791 - ETA: 7:53 - loss: 0.4920 - accuracy: 0.81 - ETA: 6:34 - loss: 0.4852 - accuracy: 0.80 - ETA: 5:15 - loss: 0.4867 - accuracy: 0.77 - ETA: 3:56 - loss: 0.4811 - accuracy: 0.76 - ETA: 2:37 - loss: 0.4767 - accuracy: 0.76 - ETA: 1:18 - loss: 0.4795 - accuracy: 0.77 - 802s 10s/step - loss: 0.4613 - accuracy: 0.7875 - val_loss: 0.3903 - val_accuracy: 0.8500\n",
      "Epoch 4/8\n",
      "80/80 [==============================] - ETA: 12:08 - loss: 0.3459 - accuracy: 0.875 - ETA: 10:39 - loss: 0.2715 - accuracy: 0.937 - ETA: 9:16 - loss: 0.3074 - accuracy: 0.875 - ETA: 7:55 - loss: 0.2900 - accuracy: 0.87 - ETA: 6:35 - loss: 0.2520 - accuracy: 0.90 - ETA: 5:16 - loss: 0.4480 - accuracy: 0.87 - ETA: 3:57 - loss: 0.4249 - accuracy: 0.87 - ETA: 2:37 - loss: 0.4387 - accuracy: 0.87 - ETA: 1:18 - loss: 0.4306 - accuracy: 0.87 - 804s 10s/step - loss: 0.4150 - accuracy: 0.8750 - val_loss: 0.3584 - val_accuracy: 0.8500\n",
      "Epoch 5/8\n",
      "80/80 [==============================] - ETA: 11:46 - loss: 0.2916 - accuracy: 0.875 - ETA: 10:28 - loss: 0.2537 - accuracy: 0.875 - ETA: 9:09 - loss: 0.2021 - accuracy: 0.916 - ETA: 7:51 - loss: 0.3931 - accuracy: 0.81 - ETA: 6:33 - loss: 0.3713 - accuracy: 0.82 - ETA: 5:14 - loss: 0.3512 - accuracy: 0.83 - ETA: 3:55 - loss: 0.3419 - accuracy: 0.83 - ETA: 2:37 - loss: 0.3280 - accuracy: 0.84 - ETA: 1:18 - loss: 0.3212 - accuracy: 0.84 - 801s 10s/step - loss: 0.3363 - accuracy: 0.8500 - val_loss: 0.3107 - val_accuracy: 0.9000\n",
      "Epoch 6/8\n",
      "80/80 [==============================] - ETA: 11:49 - loss: 0.2051 - accuracy: 1.000 - ETA: 10:39 - loss: 0.1593 - accuracy: 1.000 - ETA: 9:20 - loss: 0.1159 - accuracy: 1.000 - ETA: 8:00 - loss: 0.1855 - accuracy: 0.96 - ETA: 6:39 - loss: 0.1736 - accuracy: 0.97 - ETA: 5:19 - loss: 0.1475 - accuracy: 0.97 - ETA: 3:59 - loss: 0.2692 - accuracy: 0.94 - ETA: 2:39 - loss: 0.2862 - accuracy: 0.95 - ETA: 1:20 - loss: 0.2707 - accuracy: 0.95 - 818s 10s/step - loss: 0.3360 - accuracy: 0.9375 - val_loss: 0.3350 - val_accuracy: 0.8500\n",
      "Epoch 7/8\n",
      "80/80 [==============================] - ETA: 12:04 - loss: 0.0975 - accuracy: 1.000 - ETA: 10:40 - loss: 0.0713 - accuracy: 1.000 - ETA: 9:19 - loss: 0.1066 - accuracy: 0.958 - ETA: 7:58 - loss: 0.1022 - accuracy: 0.96 - ETA: 6:38 - loss: 0.3030 - accuracy: 0.90 - ETA: 5:18 - loss: 0.3002 - accuracy: 0.89 - ETA: 3:59 - loss: 0.3227 - accuracy: 0.87 - ETA: 2:39 - loss: 0.3089 - accuracy: 0.85 - ETA: 1:19 - loss: 0.3124 - accuracy: 0.86 - 811s 10s/step - loss: 0.2896 - accuracy: 0.8750 - val_loss: 0.3978 - val_accuracy: 0.8500\n",
      "Epoch 8/8\n",
      "80/80 [==============================] - ETA: 11:53 - loss: 0.0865 - accuracy: 1.000 - ETA: 10:34 - loss: 0.1319 - accuracy: 0.937 - ETA: 9:16 - loss: 0.3039 - accuracy: 0.875 - ETA: 7:57 - loss: 0.2571 - accuracy: 0.90 - ETA: 6:38 - loss: 0.2452 - accuracy: 0.90 - ETA: 5:18 - loss: 0.2637 - accuracy: 0.87 - ETA: 3:59 - loss: 0.2440 - accuracy: 0.87 - ETA: 2:39 - loss: 0.2541 - accuracy: 0.87 - ETA: 1:19 - loss: 0.2337 - accuracy: 0.88 - 815s 10s/step - loss: 0.2206 - accuracy: 0.9000 - val_loss: 0.3286 - val_accuracy: 0.8500\n"
     ]
    }
   ],
   "source": [
    "hist = model.fit(X_train_new, y_train_new, validation_data=(X_val_new,y_val_new),\n",
    "          batch_size = 8, epochs = 8, shuffle=True)"
   ]
  },
  {
   "cell_type": "code",
   "execution_count": 15,
   "metadata": {},
   "outputs": [
    {
     "name": "stdout",
     "output_type": "stream",
     "text": [
      "20/20 [==============================] - ETA:  - 15s 764ms/step\n"
     ]
    }
   ],
   "source": [
    "score = model.evaluate(X_val_new,y_val_new, batch_size=16)"
   ]
  },
  {
   "cell_type": "code",
   "execution_count": 17,
   "metadata": {},
   "outputs": [],
   "source": [
    "model.save('my_model_P8_2335.h5')"
   ]
  },
  {
   "cell_type": "code",
   "execution_count": null,
   "metadata": {},
   "outputs": [],
   "source": []
  }
 ],
 "metadata": {
  "kernelspec": {
   "display_name": "Python 3",
   "language": "python",
   "name": "python3"
  },
  "language_info": {
   "codemirror_mode": {
    "name": "ipython",
    "version": 3
   },
   "file_extension": ".py",
   "mimetype": "text/x-python",
   "name": "python",
   "nbconvert_exporter": "python",
   "pygments_lexer": "ipython3",
   "version": "3.7.4"
  }
 },
 "nbformat": 4,
 "nbformat_minor": 2
}

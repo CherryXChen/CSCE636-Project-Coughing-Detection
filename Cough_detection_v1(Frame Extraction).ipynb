{
 "cells": [
  {
   "cell_type": "code",
   "execution_count": 1,
   "metadata": {},
   "outputs": [
    {
     "name": "stderr",
     "output_type": "stream",
     "text": [
      "Using TensorFlow backend.\n"
     ]
    }
   ],
   "source": [
    "import cv2     #for capturing videos\n",
    "import math    #for mathematical operation\n",
    "import matplotlib.pyplot as plt\n",
    "%matplotlib inline\n",
    "import pandas as pd\n",
    "from keras.preprocessing import image     #for preprocessing the images\n",
    "import numpy as np     #for mathematical operation\n",
    "from keras.utils import np_utils\n",
    "from skimage.transform import resize\n",
    "from sklearn.model_selection import train_test_split\n",
    "from glob import glob\n",
    "from tqdm import tqdm"
   ]
  },
  {
   "cell_type": "code",
   "execution_count": 2,
   "metadata": {},
   "outputs": [
    {
     "data": {
      "text/html": [
       "<div>\n",
       "<style scoped>\n",
       "    .dataframe tbody tr th:only-of-type {\n",
       "        vertical-align: middle;\n",
       "    }\n",
       "\n",
       "    .dataframe tbody tr th {\n",
       "        vertical-align: top;\n",
       "    }\n",
       "\n",
       "    .dataframe thead th {\n",
       "        text-align: right;\n",
       "    }\n",
       "</style>\n",
       "<table border=\"1\" class=\"dataframe\">\n",
       "  <thead>\n",
       "    <tr style=\"text-align: right;\">\n",
       "      <th></th>\n",
       "      <th>video_name</th>\n",
       "    </tr>\n",
       "  </thead>\n",
       "  <tbody>\n",
       "    <tr>\n",
       "      <td>0</td>\n",
       "      <td>S012C001P007R001A001_rgb.avi</td>\n",
       "    </tr>\n",
       "    <tr>\n",
       "      <td>1</td>\n",
       "      <td>S012C001P007R001A002_rgb.avi</td>\n",
       "    </tr>\n",
       "    <tr>\n",
       "      <td>2</td>\n",
       "      <td>S012C001P007R001A003_rgb.avi</td>\n",
       "    </tr>\n",
       "    <tr>\n",
       "      <td>3</td>\n",
       "      <td>S012C001P007R001A004_rgb.avi</td>\n",
       "    </tr>\n",
       "    <tr>\n",
       "      <td>4</td>\n",
       "      <td>S012C001P007R001A005_rgb.avi</td>\n",
       "    </tr>\n",
       "  </tbody>\n",
       "</table>\n",
       "</div>"
      ],
      "text/plain": [
       "                     video_name\n",
       "0  S012C001P007R001A001_rgb.avi\n",
       "1  S012C001P007R001A002_rgb.avi\n",
       "2  S012C001P007R001A003_rgb.avi\n",
       "3  S012C001P007R001A004_rgb.avi\n",
       "4  S012C001P007R001A005_rgb.avi"
      ]
     },
     "execution_count": 2,
     "metadata": {},
     "output_type": "execute_result"
    }
   ],
   "source": [
    "# open the .txt file which have names of training videos\n",
    "f = open(r\"D:\\2020Spring\\636_project\\data\\train_list.txt\", \"r\")\n",
    "temp = f.read()\n",
    "videos = temp.split('\\n')\n",
    "\n",
    "# creating a dataframe having video names\n",
    "train = pd.DataFrame()\n",
    "train['video_name'] = videos\n",
    "train = train[:]\n",
    "train.head()"
   ]
  },
  {
   "cell_type": "code",
   "execution_count": 3,
   "metadata": {},
   "outputs": [
    {
     "data": {
      "text/html": [
       "<div>\n",
       "<style scoped>\n",
       "    .dataframe tbody tr th:only-of-type {\n",
       "        vertical-align: middle;\n",
       "    }\n",
       "\n",
       "    .dataframe tbody tr th {\n",
       "        vertical-align: top;\n",
       "    }\n",
       "\n",
       "    .dataframe thead th {\n",
       "        text-align: right;\n",
       "    }\n",
       "</style>\n",
       "<table border=\"1\" class=\"dataframe\">\n",
       "  <thead>\n",
       "    <tr style=\"text-align: right;\">\n",
       "      <th></th>\n",
       "      <th>video_name</th>\n",
       "    </tr>\n",
       "  </thead>\n",
       "  <tbody>\n",
       "    <tr>\n",
       "      <td>0</td>\n",
       "      <td>S012C003P016R001A001_rgb.avi</td>\n",
       "    </tr>\n",
       "    <tr>\n",
       "      <td>1</td>\n",
       "      <td>S012C003P016R001A002_rgb.avi</td>\n",
       "    </tr>\n",
       "    <tr>\n",
       "      <td>2</td>\n",
       "      <td>S012C003P016R001A003_rgb.avi</td>\n",
       "    </tr>\n",
       "    <tr>\n",
       "      <td>3</td>\n",
       "      <td>S012C003P016R001A004_rgb.avi</td>\n",
       "    </tr>\n",
       "    <tr>\n",
       "      <td>4</td>\n",
       "      <td>S012C003P016R001A005_rgb.avi</td>\n",
       "    </tr>\n",
       "  </tbody>\n",
       "</table>\n",
       "</div>"
      ],
      "text/plain": [
       "                     video_name\n",
       "0  S012C003P016R001A001_rgb.avi\n",
       "1  S012C003P016R001A002_rgb.avi\n",
       "2  S012C003P016R001A003_rgb.avi\n",
       "3  S012C003P016R001A004_rgb.avi\n",
       "4  S012C003P016R001A005_rgb.avi"
      ]
     },
     "execution_count": 3,
     "metadata": {},
     "output_type": "execute_result"
    }
   ],
   "source": [
    "# open the .txt file which have names of test videos\n",
    "f = open(r\"D:\\2020Spring\\636_project\\data\\test_list.txt\", \"r\")\n",
    "temp = f.read()\n",
    "videos = temp.split('\\n')\n",
    "\n",
    "# creating a dataframe having video names\n",
    "test = pd.DataFrame()\n",
    "test['video_name'] = videos\n",
    "test = test[:]\n",
    "test.head()"
   ]
  },
  {
   "cell_type": "code",
   "execution_count": 4,
   "metadata": {},
   "outputs": [],
   "source": [
    "# creating tags for training videos\n",
    "train_video_tag = []\n",
    "for i in range(train.shape[0]):\n",
    "    if(i%40 == 0 and i!= 0):\n",
    "        train_video_tag.append('Cough')\n",
    "    else:\n",
    "        train_video_tag.append('Others')\n",
    "    \n",
    "train['tag'] = train_video_tag\n",
    "\n",
    "#print(train[:41])\n",
    "\n",
    "# creating tags for test videos\n",
    "test_video_tag = []\n",
    "for i in range(test.shape[0]):\n",
    "    if(i%40 == 0 and i!= 0):\n",
    "        test_video_tag.append('Cough')\n",
    "    else:\n",
    "        test_video_tag.append('Others')\n",
    "#print(len(test_video_tag))    \n",
    "test['tag'] = test_video_tag"
   ]
  },
  {
   "cell_type": "code",
   "execution_count": 5,
   "metadata": {},
   "outputs": [
    {
     "name": "stderr",
     "output_type": "stream",
     "text": [
      "100%|██████████| 100/100 [00:57<00:00,  1.75it/s]\n"
     ]
    }
   ],
   "source": [
    "# storing the frames from training videos\n",
    "for i in tqdm(range(train.shape[0])):\n",
    "#for i in range(1):\n",
    "    count = 0\n",
    "    videoFile = train['video_name'][i]\n",
    "    cap = cv2.VideoCapture(r'D:\\2020Spring\\636_project\\data\\train_data/' + videoFile)   # capturing the video from the given path\n",
    "    frameCount = cap.get(7) #frame counts\n",
    "    x = math.floor(frameCount / 15)\n",
    "    #print([frameCount,x])\n",
    "    while(cap.isOpened()):\n",
    "        frameId = cap.get(1) #current frame number\n",
    "        ret, frame = cap.read()\n",
    "        if (ret != True):\n",
    "            break\n",
    "        if (count == 15):\n",
    "            break\n",
    "        if (frameId == (x * count)):\n",
    "            # storing the frames in a new folder named train_1\n",
    "            frame=cv2.resize(frame,(112,112),interpolation=cv2.INTER_AREA)\n",
    "            filename =r'D:\\2020Spring\\636_project\\data\\train_1/' + videoFile +\"_frame%d.jpg\" % count;count+=1\n",
    "            cv2.imwrite(filename, frame)\n",
    "    cap.release()"
   ]
  },
  {
   "cell_type": "code",
   "execution_count": 6,
   "metadata": {},
   "outputs": [
    {
     "data": {
      "text/plain": [
       "'\\n# storing the frames from training videos\\nfor i in tqdm(range(train.shape[0])):\\n#for i in range(1):\\n    count = 0\\n    videoFile = train[\\'video_name\\'][i]\\n    cap = cv2.VideoCapture(r\\'D:\\x820Springƞ_project\\\\data\\train_data/\\' + videoFile)   # capturing the video from the given path\\n    frameRate = cap.get(7) #frame counts\\n    x = math.floor(frameCount / 15)\\n    while(cap.isOpened()):\\n        frameId = cap.get(1) #current frame number\\n        ret, frame = cap.read()\\n        if (ret != True):\\n            break\\n        if (frameId % x == 0):\\n            # storing the frames in a new folder named train_1\\n            filename =r\\'D:\\x820Springƞ_project\\\\data\\train_1/\\' + videoFile +\"_frame%d.jpg\" % count;count+=1\\n            cv2.imwrite(filename, frame)\\n    cap.release()\\n'"
      ]
     },
     "execution_count": 6,
     "metadata": {},
     "output_type": "execute_result"
    }
   ],
   "source": [
    "'''\n",
    "# storing the frames from training videos\n",
    "for i in tqdm(range(train.shape[0])):\n",
    "#for i in range(1):\n",
    "    count = 0\n",
    "    videoFile = train['video_name'][i]\n",
    "    cap = cv2.VideoCapture(r'D:\\2020Spring\\636_project\\data\\train_data/' + videoFile)   # capturing the video from the given path\n",
    "    frameRate = cap.get(7) #frame counts\n",
    "    x = math.floor(frameCount / 15)\n",
    "    while(cap.isOpened()):\n",
    "        frameId = cap.get(1) #current frame number\n",
    "        ret, frame = cap.read()\n",
    "        if (ret != True):\n",
    "            break\n",
    "        if (frameId % x == 0):\n",
    "            # storing the frames in a new folder named train_1\n",
    "            filename =r'D:\\2020Spring\\636_project\\data\\train_1/' + videoFile +\"_frame%d.jpg\" % count;count+=1\n",
    "            cv2.imwrite(filename, frame)\n",
    "    cap.release()\n",
    "'''"
   ]
  },
  {
   "cell_type": "code",
   "execution_count": 7,
   "metadata": {},
   "outputs": [
    {
     "data": {
      "text/plain": [
       "'\\nfor i in tqdm(range(test.shape[0])):\\n#for i in range(1):\\n    count = 0\\n    videoFile = test[\\'video_name\\'][i]\\n    cap = cv2.VideoCapture(r\\'D:\\x820Springƞ_project\\\\data\\test_data/\\' + videoFile)   # capturing the video from the given path\\n    frameCount = cap.get(7) #frame counts\\n    x = math.floor(frameCount / 15)\\n    while(cap.isOpened()):\\n        frameId = cap.get(1) #current frame number\\n        ret, frame = cap.read()\\n        if (ret != True):\\n            break\\n        if (count == 15):\\n            break\\n        if (frameId % math.floor(frameRate) == 0):\\n            # storing the frames in a new folder named train_1\\n            filename =r\\'D:\\x820Springƞ_project\\\\data\\test_1/\\' + videoFile +\"_frame%d.jpg\" % count;count+=1\\n            cv2.imwrite(filename, frame)\\n    cap.release()\\n'"
      ]
     },
     "execution_count": 7,
     "metadata": {},
     "output_type": "execute_result"
    }
   ],
   "source": [
    "'''\n",
    "for i in tqdm(range(test.shape[0])):\n",
    "#for i in range(1):\n",
    "    count = 0\n",
    "    videoFile = test['video_name'][i]\n",
    "    cap = cv2.VideoCapture(r'D:\\2020Spring\\636_project\\data\\test_data/' + videoFile)   # capturing the video from the given path\n",
    "    frameCount = cap.get(7) #frame counts\n",
    "    x = math.floor(frameCount / 15)\n",
    "    while(cap.isOpened()):\n",
    "        frameId = cap.get(1) #current frame number\n",
    "        ret, frame = cap.read()\n",
    "        if (ret != True):\n",
    "            break\n",
    "        if (count == 15):\n",
    "            break\n",
    "        if (frameId % math.floor(frameRate) == 0):\n",
    "            # storing the frames in a new folder named train_1\n",
    "            filename =r'D:\\2020Spring\\636_project\\data\\test_1/' + videoFile +\"_frame%d.jpg\" % count;count+=1\n",
    "            cv2.imwrite(filename, frame)\n",
    "    cap.release()\n",
    "'''"
   ]
  },
  {
   "cell_type": "code",
   "execution_count": 8,
   "metadata": {},
   "outputs": [
    {
     "name": "stderr",
     "output_type": "stream",
     "text": [
      "100%|██████████| 1500/1500 [00:00<00:00, 751577.59it/s]\n"
     ]
    }
   ],
   "source": [
    "images = glob(r'D:\\2020Spring\\636_project\\data\\train_1/*.jpg')\n",
    "train_image = []\n",
    "train_class = []\n",
    "for i in tqdm(range(len(images))):\n",
    "    images[i] = images[i].split('\\\\',5)[5]\n",
    "    # creating the image name\n",
    "    #print(images[i].split('_rgb')[0].split('A')[1])\n",
    "    if (images[i].split('_rgb')[0].split('A')[1] == '041'):\n",
    "        train_image.append(images[i])\n",
    "        train_class.append('Cough')\n",
    "    # creating the class of image\n",
    "    else:\n",
    "        train_image.append(images[i])\n",
    "        train_class.append('Others')\n",
    "# storing the images and their class in a dataframe\n",
    "#images = sorted(images, key=lambda name: int(name[34:]))\n",
    "train_data = pd.DataFrame()\n",
    "train_data['image'] = train_image\n",
    "train_data['class'] = train_class\n",
    "train_data.head()\n",
    "# converting the dataframe into csv file \n",
    "train_data.to_csv(r'D:\\2020Spring\\636_project\\data\\train_new.csv',header=True, index=False)"
   ]
  },
  {
   "cell_type": "code",
   "execution_count": null,
   "metadata": {},
   "outputs": [],
   "source": []
  }
 ],
 "metadata": {
  "kernelspec": {
   "display_name": "Python 3",
   "language": "python",
   "name": "python3"
  },
  "language_info": {
   "codemirror_mode": {
    "name": "ipython",
    "version": 3
   },
   "file_extension": ".py",
   "mimetype": "text/x-python",
   "name": "python",
   "nbconvert_exporter": "python",
   "pygments_lexer": "ipython3",
   "version": "3.7.4"
  }
 },
 "nbformat": 4,
 "nbformat_minor": 2
}

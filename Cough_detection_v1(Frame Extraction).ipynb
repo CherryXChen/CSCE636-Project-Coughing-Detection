{
 "cells": [
  {
   "cell_type": "code",
   "execution_count": null,
   "metadata": {},
   "outputs": [],
   "source": [
    "import cv2     #for capturing videos\n",
    "import math    #for mathematical operation\n",
    "import matplotlib.pyplot as plt\n",
    "%matplotlib inline\n",
    "import pandas as pd\n",
    "from keras.preprocessing import image     #for preprocessing the images\n",
    "import numpy as np     #for mathematical operation\n",
    "from keras.utils import np_utils\n",
    "from skimage.transform import resize\n",
    "from sklearn.model_selection import train_test_split\n",
    "from glob import glob\n",
    "from tqdm import tqdm"
   ]
  },
  {
   "cell_type": "code",
   "execution_count": null,
   "metadata": {},
   "outputs": [],
   "source": [
    "# open the .txt file which have names of training videos\n",
    "f = open(r\"D:\\2020Spring\\636_project\\data\\train_list.txt\", \"r\")\n",
    "temp = f.read()\n",
    "videos = temp.split('\\n')\n",
    "\n",
    "# creating a dataframe having video names\n",
    "train = pd.DataFrame()\n",
    "train['video_name'] = videos\n",
    "train = train[:]\n",
    "train.head()"
   ]
  },
  {
   "cell_type": "code",
   "execution_count": null,
   "metadata": {},
   "outputs": [],
   "source": [
    "# open the .txt file which have names of test videos\n",
    "f = open(r\"D:\\2020Spring\\636_project\\data\\test_list.txt\", \"r\")\n",
    "temp = f.read()\n",
    "videos = temp.split('\\n')\n",
    "\n",
    "# creating a dataframe having video names\n",
    "test = pd.DataFrame()\n",
    "test['video_name'] = videos\n",
    "test = test[:]\n",
    "test.head()"
   ]
  },
  {
   "cell_type": "code",
   "execution_count": null,
   "metadata": {},
   "outputs": [],
   "source": [
    "# creating tags for training videos\n",
    "train_video_tag = []\n",
    "for i in range(train.shape[0]):\n",
    "    if(i%40 == 0 and i!= 0):\n",
    "        train_video_tag.append('Cough')\n",
    "    else:\n",
    "        train_video_tag.append('Others')\n",
    "    \n",
    "train['tag'] = train_video_tag\n",
    "\n",
    "#print(train[:41])\n",
    "\n",
    "# creating tags for test videos\n",
    "test_video_tag = []\n",
    "for i in range(test.shape[0]):\n",
    "    if(i%40 == 0 and i!= 0):\n",
    "        test_video_tag.append('Cough')\n",
    "    else:\n",
    "        test_video_tag.append('Others')\n",
    "#print(len(test_video_tag))    \n",
    "test['tag'] = test_video_tag"
   ]
  },
  {
   "cell_type": "code",
   "execution_count": null,
   "metadata": {},
   "outputs": [],
   "source": [
    "# storing the frames from training videos\n",
    "for i in tqdm(range(train.shape[0])):\n",
    "#for i in range(1):\n",
    "    count = 0\n",
    "    videoFile = train['video_name'][i]\n",
    "    cap = cv2.VideoCapture(r'D:\\2020Spring\\636_project\\data\\train_data/' + videoFile)   # capturing the video from the given path\n",
    "    frameCount = cap.get(7) #frame counts\n",
    "    x = math.floor(frameCount / 15)\n",
    "    #print([frameCount,x])\n",
    "    while(cap.isOpened()):\n",
    "        frameId = cap.get(1) #current frame number\n",
    "        ret, frame = cap.read()\n",
    "        if (ret != True):\n",
    "            break\n",
    "        if (count == 15):\n",
    "            break\n",
    "        if (frameId == (x * count)):\n",
    "            # storing the frames in a new folder named train_1\n",
    "            frame=cv2.resize(frame,(112,112),interpolation=cv2.INTER_AREA)\n",
    "            filename =r'D:\\2020Spring\\636_project\\data\\train_1/' + videoFile +\"_frame%d.jpg\" % count;count+=1\n",
    "            cv2.imwrite(filename, frame)\n",
    "    cap.release()"
   ]
  },
  {
   "cell_type": "code",
   "execution_count": null,
   "metadata": {},
   "outputs": [],
   "source": [
    "images = glob(r'D:\\2020Spring\\636_project\\data\\train_1/*.jpg')\n",
    "train_image = []\n",
    "train_class = []\n",
    "for i in tqdm(range(len(images))):\n",
    "    images[i] = images[i].split('\\\\',5)[5]\n",
    "    # creating the image name\n",
    "    #print(images[i].split('_rgb')[0].split('A')[1])\n",
    "    if (images[i].split('_rgb')[0].split('A')[1] == '041'):\n",
    "        train_image.append(images[i])\n",
    "        train_class.append('Cough')\n",
    "    # creating the class of image\n",
    "    else:\n",
    "        train_image.append(images[i])\n",
    "        train_class.append('Others')\n",
    "# storing the images and their class in a dataframe\n",
    "#images = sorted(images, key=lambda name: int(name[34:]))\n",
    "train_data = pd.DataFrame()\n",
    "train_data['image'] = train_image\n",
    "train_data['class'] = train_class\n",
    "train_data.head()\n",
    "# converting the dataframe into csv file \n",
    "train_data.to_csv(r'D:\\2020Spring\\636_project\\data\\train_new.csv',header=True, index=False)"
   ]
  },
  {
   "cell_type": "code",
   "execution_count": null,
   "metadata": {},
   "outputs": [],
   "source": []
  }
 ],
 "metadata": {
  "kernelspec": {
   "display_name": "Python 3",
   "language": "python",
   "name": "python3"
  },
  "language_info": {
   "codemirror_mode": {
    "name": "ipython",
    "version": 3
   },
   "file_extension": ".py",
   "mimetype": "text/x-python",
   "name": "python",
   "nbconvert_exporter": "python",
   "pygments_lexer": "ipython3",
   "version": "3.7.4"
  }
 },
 "nbformat": 4,
 "nbformat_minor": 2
}
